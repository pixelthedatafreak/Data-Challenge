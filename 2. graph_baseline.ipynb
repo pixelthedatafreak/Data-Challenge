{
 "cells": [
  {
   "cell_type": "markdown",
   "metadata": {},
   "source": [
    "## <span style=\"color:navy\">Alternative 1 : Classifying articles using in, out and average degree <span>"
   ]
  },
  {
   "cell_type": "markdown",
   "metadata": {},
   "source": [
    "### **Loading the packages we are going to use.**"
   ]
  },
  {
   "cell_type": "code",
   "execution_count": 59,
   "metadata": {},
   "outputs": [],
   "source": [
    "import networkx as nx\n",
    "import numpy as np\n",
    "import csv\n",
    "from sklearn.linear_model import LogisticRegression\n",
    "from sklearn.model_selection import train_test_split\n",
    "from sklearn.metrics import log_loss"
   ]
  },
  {
   "cell_type": "markdown",
   "metadata": {},
   "source": [
    "### **Creating the citation graph.**"
   ]
  },
  {
   "cell_type": "code",
   "execution_count": 60,
   "metadata": {},
   "outputs": [],
   "source": [
    "# Create a directed graph\n",
    "G = nx.read_edgelist('Cit-HepTh.txt', delimiter='\\t', create_using=nx.DiGraph())"
   ]
  },
  {
   "cell_type": "code",
   "execution_count": 61,
   "metadata": {},
   "outputs": [
    {
     "name": "stdout",
     "output_type": "stream",
     "text": [
      "Nodes:  27770\n",
      "Edges:  352807\n"
     ]
    }
   ],
   "source": [
    "print(\"Nodes: \", G.number_of_nodes())\n",
    "print(\"Edges: \", G.number_of_edges())"
   ]
  },
  {
   "cell_type": "markdown",
   "metadata": {},
   "source": [
    "### **Reading data (document ids and the corresponding journal they were published in).**\n",
    "\n",
    "### ** We have 28 journals **"
   ]
  },
  {
   "cell_type": "code",
   "execution_count": 62,
   "metadata": {},
   "outputs": [
    {
     "name": "stdout",
     "output_type": "stream",
     "text": [
      "\n",
      "Number of classes:  28\n"
     ]
    }
   ],
   "source": [
    "# Read training data\n",
    "all_ids = list()\n",
    "y_all = list()\n",
    "with open('train.csv', 'r') as f:\n",
    "    next(f)\n",
    "    for line in f:\n",
    "        t = line.split(',')\n",
    "        all_ids.append(t[0])\n",
    "        y_all.append(t[1][:-1])\n",
    "n_all = len(all_ids)\n",
    "unique = np.unique(y_all)\n",
    "print(\"\\nNumber of classes: \", unique.size)"
   ]
  },
  {
   "cell_type": "markdown",
   "metadata": {},
   "source": [
    "### **Splitting in train and validation set in order to run my own evaluation before uploading the results on kaggle**"
   ]
  },
  {
   "cell_type": "code",
   "execution_count": 63,
   "metadata": {},
   "outputs": [],
   "source": [
    "train_ids,valid_ids, y_train, y_val = train_test_split(all_ids, y_all, test_size=0.2, random_state=1)"
   ]
  },
  {
   "cell_type": "code",
   "execution_count": 64,
   "metadata": {},
   "outputs": [
    {
     "name": "stdout",
     "output_type": "stream",
     "text": [
      "Articles used for training : 12272\n",
      "Articles used for validation : 3069\n"
     ]
    }
   ],
   "source": [
    "n_train = len(train_ids)\n",
    "n_valid = len(valid_ids)\n",
    "print(\"Articles used for training :\",len(train_ids))\n",
    "print(\"Articles used for validation :\",len(valid_ids))"
   ]
  },
  {
   "cell_type": "markdown",
   "metadata": {},
   "source": [
    "### **Create the training, validation and test matrices. Each row corresponds to an article.**\n",
    "\n",
    "Use the following 3 features for each article:\n",
    " - out-degree of node\n",
    " - in-degree of node\n",
    " - average degree of neighborhood of node"
   ]
  },
  {
   "cell_type": "code",
   "execution_count": 65,
   "metadata": {},
   "outputs": [],
   "source": [
    "train_avg_neig_deg = nx.average_neighbor_degree(G, nodes=train_ids)\n",
    "valid_avg_neig_deg = nx.average_neighbor_degree(G, nodes=valid_ids)"
   ]
  },
  {
   "cell_type": "code",
   "execution_count": 159,
   "metadata": {},
   "outputs": [],
   "source": [
    "X_train = np.zeros((n_train, 3))\n",
    "for i in range(n_train):\n",
    "\tX_train[i,0] = G.out_degree(train_ids[i])\n",
    "\tX_train[i,1] = G.in_degree(train_ids[i])\n",
    "\tX_train[i,2] = train_avg_neig_deg[train_ids[i]]"
   ]
  },
  {
   "cell_type": "code",
   "execution_count": 160,
   "metadata": {},
   "outputs": [],
   "source": [
    "X_valid = np.zeros((n_valid, 3))\n",
    "for i in range(n_valid):\n",
    "\tX_valid[i,0] = G.out_degree(valid_ids[i])\n",
    "\tX_valid[i,1] = G.in_degree(valid_ids[i])\n",
    "\tX_valid[i,2] = valid_avg_neig_deg[valid_ids[i]]"
   ]
  },
  {
   "cell_type": "code",
   "execution_count": 69,
   "metadata": {},
   "outputs": [],
   "source": [
    "# Read test data\n",
    "test_ids = list()\n",
    "with open('test.csv', 'r') as f:\n",
    "    next(f)\n",
    "    for line in f:\n",
    "        test_ids.append(line[:-2])"
   ]
  },
  {
   "cell_type": "code",
   "execution_count": 161,
   "metadata": {},
   "outputs": [],
   "source": [
    "# Create the test matrix. Use the same 3 features as above\n",
    "n_test = len(test_ids)\n",
    "test_avg_neig_deg = nx.average_neighbor_degree(G, nodes=test_ids)\n",
    "X_test = np.zeros((n_test, 3))\n",
    "for i in range(n_test):\n",
    "\tX_test[i,0] = G.out_degree(test_ids[i])\n",
    "\tX_test[i,1] = G.in_degree(test_ids[i])\n",
    "\tX_test[i,2] = test_avg_neig_deg[test_ids[i]]"
   ]
  },
  {
   "cell_type": "code",
   "execution_count": 71,
   "metadata": {},
   "outputs": [
    {
     "name": "stdout",
     "output_type": "stream",
     "text": [
      "Train matrix dimensionality:  (12272, 3)\n",
      "Validation matrix dimensionality:  (3069, 3)\n",
      "Test matrix dimensionality:  (3836, 3)\n"
     ]
    }
   ],
   "source": [
    "print(\"Train matrix dimensionality: \", X_train.shape)\n",
    "print(\"Validation matrix dimensionality: \", X_valid.shape)\n",
    "print(\"Test matrix dimensionality: \", X_test.shape)"
   ]
  },
  {
   "cell_type": "markdown",
   "metadata": {},
   "source": [
    "### **Logistic regression classifier to classify the articles of the validation set **"
   ]
  },
  {
   "cell_type": "code",
   "execution_count": 72,
   "metadata": {},
   "outputs": [
    {
     "name": "stdout",
     "output_type": "stream",
     "text": [
      "2.4083371584\n"
     ]
    }
   ],
   "source": [
    "# Use logistic regression to classify the articles of the test set\n",
    "clf = LogisticRegression()\n",
    "clf.fit(X_train, y_train)\n",
    "y_pred = clf.predict_proba(X_valid)\n",
    "loss = log_loss(y_val,y_pred)\n",
    "print(loss)"
   ]
  },
  {
   "cell_type": "markdown",
   "metadata": {},
   "source": [
    "## <span style=\"color:navy\">Alternative 2 : <span>\n",
    "  ###  <span style=\"color:navy\">Classifying articles using in, out, average degree, closeness centrality . <span>"
   ]
  },
  {
   "cell_type": "markdown",
   "metadata": {},
   "source": [
    "### **Computing closeness centrality of every article that belongs in train, validation and test sets **"
   ]
  },
  {
   "cell_type": "code",
   "execution_count": 82,
   "metadata": {},
   "outputs": [],
   "source": [
    "train_cc = np.zeros(n_train)\n",
    "for i in range(0,n_train):\n",
    "    train_cc[i] = nx.closeness_centrality(G,train_ids[i])"
   ]
  },
  {
   "cell_type": "code",
   "execution_count": 84,
   "metadata": {},
   "outputs": [],
   "source": [
    "valid_cc = np.zeros(n_valid)\n",
    "for i in range(0,n_valid):\n",
    "    valid_cc[i] = nx.closeness_centrality(G,valid_ids[i])"
   ]
  },
  {
   "cell_type": "code",
   "execution_count": 85,
   "metadata": {},
   "outputs": [],
   "source": [
    "test_cc = np.zeros(n_test)\n",
    "for i in range(0,n_test):\n",
    "    test_cc[i] = nx.closeness_centrality(G,test_ids[i])"
   ]
  },
  {
   "cell_type": "markdown",
   "metadata": {},
   "source": [
    "### **Computing betweeness centrality of every article that belongs in train, validation and test sets **"
   ]
  },
  {
   "cell_type": "markdown",
   "metadata": {},
   "source": [
    "### ** Appending the new features to train,validation and test matrices **"
   ]
  },
  {
   "cell_type": "code",
   "execution_count": 153,
   "metadata": {},
   "outputs": [],
   "source": [
    "train_cc2 = list()\n",
    "valid_cc2 = list()\n",
    "test_cc2 = list()\n",
    "\n",
    "for i in range(0,len(train_cc)):\n",
    "    train_cc2.append([train_cc[i]])\n",
    "                       \n",
    "for i in range(0,len(valid_cc)):\n",
    "    valid_cc2.append([valid_cc[i]])\n",
    "                       \n",
    "for i in range(0,len(test_cc)):\n",
    "    test_cc2.append([test_cc[i]])"
   ]
  },
  {
   "cell_type": "code",
   "execution_count": 162,
   "metadata": {},
   "outputs": [],
   "source": [
    "X_train = np.append(X_train,np.array(train_cc2),axis = 1)\n",
    "X_valid = np.append(X_valid,np.array(valid_cc2),axis = 1)\n",
    "X_test = np.append(X_test,np.array(test_cc2),axis = 1)"
   ]
  },
  {
   "cell_type": "markdown",
   "metadata": {},
   "source": [
    "### **Logistic regression classifier to classify the articles of the validation set **"
   ]
  },
  {
   "cell_type": "code",
   "execution_count": 164,
   "metadata": {},
   "outputs": [
    {
     "name": "stdout",
     "output_type": "stream",
     "text": [
      "2.39597954685\n"
     ]
    }
   ],
   "source": [
    "# Use logistic regression to classify the articles of the test set\n",
    "clf = LogisticRegression()\n",
    "clf.fit(X_train, y_train)\n",
    "y_pred = clf.predict_proba(X_valid)\n",
    "loss = log_loss(y_val,y_pred)\n",
    "print(loss)"
   ]
  },
  {
   "cell_type": "markdown",
   "metadata": {},
   "source": [
    " | **First alternative**| **Second Alternatve**  |\n",
    " | :-------------:| :-----: |\n",
    " |  2.4083371584  | **2.39597954685**|"
   ]
  },
  {
   "cell_type": "code",
   "execution_count": 165,
   "metadata": {},
   "outputs": [],
   "source": [
    "y_pred = clf.predict_proba(X_test)"
   ]
  },
  {
   "cell_type": "code",
   "execution_count": 166,
   "metadata": {},
   "outputs": [],
   "source": [
    "# Write predictions to a file\n",
    "with open('graph_baseline_results.csv', 'w') as csvfile:\n",
    "    writer = csv.writer(csvfile, delimiter=',')\n",
    "    lst = clf.classes_.tolist()\n",
    "    lst.insert(0, \"Article\")\n",
    "    writer.writerow(lst)\n",
    "    for i,test_id in enumerate(test_ids):\n",
    "        lst = y_pred[i,:].tolist()\n",
    "        lst.insert(0, test_id)\n",
    "        writer.writerow(lst)"
   ]
  },
  {
   "cell_type": "markdown",
   "metadata": {},
   "source": [
    "### <span style=\"color:navy\"> Kaggle evaluation : 2.33636<span>"
   ]
  }
 ],
 "metadata": {
  "kernelspec": {
   "display_name": "Python 3",
   "language": "python",
   "name": "python3"
  },
  "language_info": {
   "codemirror_mode": {
    "name": "ipython",
    "version": 3
   },
   "file_extension": ".py",
   "mimetype": "text/x-python",
   "name": "python",
   "nbconvert_exporter": "python",
   "pygments_lexer": "ipython3",
   "version": "3.6.3"
  }
 },
 "nbformat": 4,
 "nbformat_minor": 2
}
