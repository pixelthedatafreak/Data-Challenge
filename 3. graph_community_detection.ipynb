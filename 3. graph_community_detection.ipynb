{
 "cells": [
  {
   "cell_type": "markdown",
   "metadata": {},
   "source": [
    "## <span style=\"color:navy\">Alternative 1 : Classifying articles using community detection citation graph <span>\n"
   ]
  },
  {
   "cell_type": "markdown",
   "metadata": {},
   "source": [
    "### **Loading the packages we are going to use.**\n"
   ]
  },
  {
   "cell_type": "code",
   "execution_count": 1,
   "metadata": {},
   "outputs": [],
   "source": [
    "import networkx as nx\n",
    "import numpy as np\n",
    "import csv\n",
    "from networkx.algorithms.community.label_propagation import label_propagation_communities\n",
    "from sklearn.linear_model import LogisticRegression\n",
    "from sklearn.model_selection import train_test_split\n",
    "from sklearn.metrics import log_loss"
   ]
  },
  {
   "cell_type": "markdown",
   "metadata": {},
   "source": [
    "### **Community detection using label propagation --> cluster creation**\n"
   ]
  },
  {
   "cell_type": "code",
   "execution_count": 2,
   "metadata": {},
   "outputs": [],
   "source": [
    "def community_detection(G):\n",
    "    n_clusters = 0\n",
    "    cluster_assignments = list()\n",
    "    communities = label_propagation_communities(G)\n",
    "    for com in communities:\n",
    "        n_clusters +=1\n",
    "        cluster_assignments.append(list(com))\n",
    "    cluster_assignments = dict(enumerate(cluster_assignments))\n",
    "    return n_clusters, cluster_assignments"
   ]
  },
  {
   "cell_type": "markdown",
   "metadata": {},
   "source": [
    "### **Creating the citation graph.**"
   ]
  },
  {
   "cell_type": "code",
   "execution_count": 3,
   "metadata": {},
   "outputs": [],
   "source": [
    "# Create a directed graph\n",
    "G = nx.read_edgelist('Cit-HepTh.txt', delimiter='\\t', create_using=nx.DiGraph())"
   ]
  },
  {
   "cell_type": "code",
   "execution_count": 4,
   "metadata": {},
   "outputs": [
    {
     "name": "stdout",
     "output_type": "stream",
     "text": [
      "Nodes:  27770\n",
      "Edges:  352807\n"
     ]
    }
   ],
   "source": [
    "print(\"Nodes: \", G.number_of_nodes())\n",
    "print(\"Edges: \", G.number_of_edges())"
   ]
  },
  {
   "cell_type": "markdown",
   "metadata": {},
   "source": [
    "### **Community detection and cluster creation .**"
   ]
  },
  {
   "cell_type": "code",
   "execution_count": 5,
   "metadata": {
    "scrolled": true
   },
   "outputs": [],
   "source": [
    "# Perform community detection\n",
    "n_clusters1, cluster_assignments = community_detection(G.to_undirected())"
   ]
  },
  {
   "cell_type": "markdown",
   "metadata": {},
   "source": [
    "### **Reading data (document ids and the corresponding journal they were published in).**\n",
    "\n",
    "### ** We have 28 journals **"
   ]
  },
  {
   "cell_type": "code",
   "execution_count": 6,
   "metadata": {},
   "outputs": [
    {
     "name": "stdout",
     "output_type": "stream",
     "text": [
      "\n",
      "Number of classes:  28\n"
     ]
    }
   ],
   "source": [
    "# Read training data\n",
    "all_ids = list()\n",
    "y_all = list()\n",
    "with open('train.csv', 'r') as f:\n",
    "    next(f)\n",
    "    for line in f:\n",
    "        t = line.split(',')\n",
    "        all_ids.append(t[0])\n",
    "        y_all.append(t[1][:-1])\n",
    "n_all = len(all_ids)\n",
    "unique = np.unique(y_all)\n",
    "print(\"\\nNumber of classes: \", unique.size)"
   ]
  },
  {
   "cell_type": "markdown",
   "metadata": {},
   "source": [
    "### **Splitting in train and validation set in order to run my own evaluation before uploading the results on kaggle**"
   ]
  },
  {
   "cell_type": "code",
   "execution_count": 7,
   "metadata": {},
   "outputs": [],
   "source": [
    "train_ids,valid_ids, y_train, y_val = train_test_split(all_ids, y_all, test_size=0.2, random_state=1)"
   ]
  },
  {
   "cell_type": "code",
   "execution_count": 8,
   "metadata": {},
   "outputs": [
    {
     "name": "stdout",
     "output_type": "stream",
     "text": [
      "Articles used for training : 12272\n",
      "Articles used for validation : 3069\n"
     ]
    }
   ],
   "source": [
    "n_train = len(train_ids)\n",
    "n_valid = len(valid_ids)\n",
    "print(\"Articles used for training :\",len(train_ids))\n",
    "print(\"Articles used for validation :\",len(valid_ids))"
   ]
  },
  {
   "cell_type": "markdown",
   "metadata": {},
   "source": [
    "### **Creating cluster dictionary in order to use article ids as keys**"
   ]
  },
  {
   "cell_type": "code",
   "execution_count": 9,
   "metadata": {},
   "outputs": [],
   "source": [
    "reverse_clusters = {tuple(v) : k for k, v in cluster_assignments.items()}"
   ]
  },
  {
   "cell_type": "markdown",
   "metadata": {},
   "source": [
    "### **Create the training, validation and test matrices. Each row corresponds to an article.**\n",
    "\n",
    "Use the following 4 features for each article:\n",
    " - out-degree of node\n",
    " - in-degree of node\n",
    " - average degree of neighborhood of node\n",
    " - a vector that serves as an indicator of the **Community Detection **cluster each node is assigned to"
   ]
  },
  {
   "cell_type": "code",
   "execution_count": 10,
   "metadata": {},
   "outputs": [],
   "source": [
    "train_avg_neig_deg = nx.average_neighbor_degree(G, nodes=train_ids)\n",
    "valid_avg_neig_deg =nx.average_neighbor_degree(G, nodes=valid_ids)\n",
    "X_train = np.zeros((n_train, 3+n_clusters1))\n",
    "X_valid = np.zeros((n_valid, 3+n_clusters1))\n",
    "for i in range(n_train):\n",
    "    X_train[i,0] = G.out_degree(train_ids[i])\n",
    "    X_train[i,1] = G.in_degree(train_ids[i])\n",
    "    X_train[i,2] = train_avg_neig_deg[train_ids[i]]\n",
    "    for list_ids in reverse_clusters.keys():\n",
    "        if(train_ids[i] in list_ids):\n",
    "            X_train[i,reverse_clusters[list_ids]+3] = 1\n",
    "            break\n",
    "\n",
    "for i in range(n_valid):\n",
    "    X_valid[i,0] = G.out_degree(valid_ids[i])\n",
    "    X_valid[i,1] = G.in_degree(valid_ids[i])\n",
    "    X_valid[i,2] = valid_avg_neig_deg[valid_ids[i]]\n",
    "    for list_ids in reverse_clusters.keys():\n",
    "        if(valid_ids[i] in list_ids):\n",
    "            X_valid[i,reverse_clusters[list_ids]+3] = 1\n",
    "            break"
   ]
  },
  {
   "cell_type": "code",
   "execution_count": 11,
   "metadata": {},
   "outputs": [],
   "source": [
    "# Read test data\n",
    "test_ids = list()\n",
    "with open('test.csv', 'r') as f:\n",
    "    next(f)\n",
    "    for line in f:\n",
    "        test_ids.append(line[:-2])"
   ]
  },
  {
   "cell_type": "code",
   "execution_count": 12,
   "metadata": {
    "scrolled": true
   },
   "outputs": [],
   "source": [
    "# Create the test matrix\n",
    "n_test = len(test_ids)\n",
    "avg_neig_deg = nx.average_neighbor_degree(G, nodes=test_ids)\n",
    "X_test = np.zeros((n_test, 3+n_clusters1))\n",
    "for i in range(n_test):\n",
    "    X_test[i,0] = G.out_degree(test_ids[i])\n",
    "    X_test[i,1] = G.in_degree(test_ids[i])\n",
    "    X_test[i,2] = avg_neig_deg[test_ids[i]]\n",
    "    for list_ids in reverse_clusters.keys():\n",
    "        if(test_ids[i] in list_ids):\n",
    "            X_test[i,reverse_clusters[list_ids]+3] = 1\n",
    "            break"
   ]
  },
  {
   "cell_type": "code",
   "execution_count": 13,
   "metadata": {},
   "outputs": [
    {
     "name": "stdout",
     "output_type": "stream",
     "text": [
      "Train matrix dimensionality:  (12272, 1138)\n",
      "Valid matrix dimensionality:  (3069, 1138)\n",
      "Test matrix dimensionality:  (3836, 1138)\n"
     ]
    }
   ],
   "source": [
    "print(\"Train matrix dimensionality: \", X_train.shape)\n",
    "print(\"Valid matrix dimensionality: \", X_valid.shape)\n",
    "print(\"Test matrix dimensionality: \", X_test.shape)"
   ]
  },
  {
   "cell_type": "markdown",
   "metadata": {},
   "source": [
    "### **Logistic regression classifier to classify the articles of the validation set **"
   ]
  },
  {
   "cell_type": "code",
   "execution_count": 14,
   "metadata": {},
   "outputs": [
    {
     "name": "stdout",
     "output_type": "stream",
     "text": [
      "2.30051261713\n"
     ]
    }
   ],
   "source": [
    "# Use logistic regression to classify the articles of the test set\n",
    "clf = LogisticRegression()\n",
    "clf.fit(X_train, y_train)\n",
    "y_pred = clf.predict_proba(X_valid)\n",
    "loss = log_loss(y_val,y_pred)\n",
    "print(loss)"
   ]
  },
  {
   "cell_type": "markdown",
   "metadata": {},
   "source": [
    "## <span style=\"color:navy\"> Alternative 2 : Classifying articles using Community Louvain <span>"
   ]
  },
  {
   "cell_type": "markdown",
   "metadata": {},
   "source": [
    "### ** Importing corresponding package and generating the clusters out of the best partition of the Graph**"
   ]
  },
  {
   "cell_type": "code",
   "execution_count": 15,
   "metadata": {},
   "outputs": [],
   "source": [
    "import community_louvain\n",
    "partition = community_louvain.best_partition(G.to_undirected())"
   ]
  },
  {
   "cell_type": "code",
   "execution_count": 16,
   "metadata": {},
   "outputs": [],
   "source": [
    "n_clusters2 = len(np.unique(list(partition.values())))"
   ]
  },
  {
   "cell_type": "markdown",
   "metadata": {},
   "source": [
    "### **Create the training, validation and test matrices. Each row corresponds to an article.**\n",
    "\n",
    "Use the following 4 features for each article:\n",
    " - out-degree of node\n",
    " - in-degree of node\n",
    " - average degree of neighborhood of node\n",
    " - a vector that serves as an indicator of the **Community-Louvain** cluster each node is assigned to"
   ]
  },
  {
   "cell_type": "code",
   "execution_count": 17,
   "metadata": {},
   "outputs": [],
   "source": [
    "train_avg_neig_deg = nx.average_neighbor_degree(G, nodes=train_ids)\n",
    "X_train = np.zeros((n_train, 3+n_clusters2))\n",
    "for i in range(n_train):\n",
    "    X_train[i,0] = G.out_degree(train_ids[i])\n",
    "    X_train[i,1] = G.in_degree(train_ids[i])\n",
    "    X_train[i,2] = train_avg_neig_deg[train_ids[i]]\n",
    "    X_train[i,partition[train_ids[i]]+ 3] = 1"
   ]
  },
  {
   "cell_type": "code",
   "execution_count": 18,
   "metadata": {},
   "outputs": [],
   "source": [
    "valid_avg_neig_deg = nx.average_neighbor_degree(G, nodes=valid_ids)\n",
    "X_valid = np.zeros((n_valid, 3+n_clusters2))\n",
    "for i in range(n_valid):\n",
    "    X_valid[i,0] = G.out_degree(valid_ids[i])\n",
    "    X_valid[i,1] = G.in_degree(valid_ids[i])\n",
    "    X_valid[i,2] = valid_avg_neig_deg[valid_ids[i]]\n",
    "    X_valid[i,partition[valid_ids[i]]+ 3] = 1"
   ]
  },
  {
   "cell_type": "code",
   "execution_count": 19,
   "metadata": {},
   "outputs": [],
   "source": [
    "# Create the test matrix\n",
    "test_avg_neig_deg = nx.average_neighbor_degree(G, nodes=test_ids)\n",
    "X_test = np.zeros((n_test, 3+n_clusters2))\n",
    "for i in range(n_test):\n",
    "    X_test[i,0] = G.out_degree(test_ids[i])\n",
    "    X_test[i,1] = G.in_degree(test_ids[i])\n",
    "    X_test[i,2] = test_avg_neig_deg[test_ids[i]]\n",
    "    X_test[i,partition[test_ids[i]]+ 3] = 1"
   ]
  },
  {
   "cell_type": "code",
   "execution_count": 20,
   "metadata": {},
   "outputs": [
    {
     "name": "stdout",
     "output_type": "stream",
     "text": [
      "Train matrix dimensionality:  (12272, 180)\n",
      "Valid matrix dimensionality:  (3069, 180)\n",
      "Test matrix dimensionality:  (3836, 180)\n"
     ]
    }
   ],
   "source": [
    "print(\"Train matrix dimensionality: \", X_train.shape)\n",
    "print(\"Valid matrix dimensionality: \", X_valid.shape)\n",
    "print(\"Test matrix dimensionality: \", X_test.shape)"
   ]
  },
  {
   "cell_type": "markdown",
   "metadata": {},
   "source": [
    "### **Logistic regression classifier to classify the articles of the validation set **"
   ]
  },
  {
   "cell_type": "code",
   "execution_count": 21,
   "metadata": {},
   "outputs": [
    {
     "name": "stdout",
     "output_type": "stream",
     "text": [
      "2.32631069591\n"
     ]
    }
   ],
   "source": [
    "# Use logistic regression to classify the articles of the test set\n",
    "clf = LogisticRegression()\n",
    "clf.fit(X_train, y_train)\n",
    "y_pred = clf.predict_proba(X_valid)\n",
    "loss = log_loss(y_val,y_pred)\n",
    "print(loss)"
   ]
  },
  {
   "cell_type": "markdown",
   "metadata": {},
   "source": [
    "## <span style=\"color:navy\"> Alternative 3 : Classifying articles using both Community Detection and Community Louvain <span>"
   ]
  },
  {
   "cell_type": "markdown",
   "metadata": {},
   "source": [
    "### **Create the training, validation and test matrices. Each row corresponds to an article.**\n",
    "\n",
    "Use the following 5 features for each article:\n",
    " - out-degree of node\n",
    " - in-degree of node\n",
    " - average degree of neighborhood of node\n",
    " - a vector that serves as an indicator of the **Community-Detection** cluster each node is assigned to\n",
    " - a vector that serves as an indicator of the **Community-Louvain** cluster each node is assigned to"
   ]
  },
  {
   "cell_type": "code",
   "execution_count": 22,
   "metadata": {},
   "outputs": [],
   "source": [
    "train_avg_neig_deg = nx.average_neighbor_degree(G, nodes=train_ids)\n",
    "X_train = np.zeros((n_train, 3+n_clusters1+n_clusters2))\n",
    "for i in range(n_train):\n",
    "    X_train[i,0] = G.out_degree(train_ids[i])\n",
    "    X_train[i,1] = G.in_degree(train_ids[i])\n",
    "    X_train[i,2] = train_avg_neig_deg[train_ids[i]]\n",
    "    X_train[i,partition[train_ids[i]]+ 3] = 1\n",
    "    for list_ids in reverse_clusters.keys():\n",
    "        if(train_ids[i] in list_ids):\n",
    "            X_train[i,reverse_clusters[list_ids]+3+n_clusters2] = 1\n",
    "            break"
   ]
  },
  {
   "cell_type": "code",
   "execution_count": 23,
   "metadata": {},
   "outputs": [],
   "source": [
    "valid_avg_neig_deg = nx.average_neighbor_degree(G, nodes=valid_ids)\n",
    "X_valid = np.zeros((n_valid, 3+n_clusters2+n_clusters1))\n",
    "for i in range(n_valid):\n",
    "    X_valid[i,0] = G.out_degree(valid_ids[i])\n",
    "    X_valid[i,1] = G.in_degree(valid_ids[i])\n",
    "    X_valid[i,2] = valid_avg_neig_deg[valid_ids[i]]\n",
    "    X_valid[i,partition[valid_ids[i]]+ 3] = 1\n",
    "    for list_ids in reverse_clusters.keys():\n",
    "        if(valid_ids[i] in list_ids):\n",
    "            X_valid[i,reverse_clusters[list_ids]+3+n_clusters2] = 1\n",
    "            break"
   ]
  },
  {
   "cell_type": "code",
   "execution_count": 24,
   "metadata": {},
   "outputs": [],
   "source": [
    "# Create the test matrix\n",
    "test_avg_neig_deg = nx.average_neighbor_degree(G, nodes=test_ids)\n",
    "X_test = np.zeros((n_test,  3+n_clusters2+n_clusters1))\n",
    "for i in range(n_test):\n",
    "    X_test[i,0] = G.out_degree(test_ids[i])\n",
    "    X_test[i,1] = G.in_degree(test_ids[i])\n",
    "    X_test[i,2] = test_avg_neig_deg[test_ids[i]]\n",
    "    X_test[i,partition[test_ids[i]]+ 3] = 1\n",
    "    for list_ids in reverse_clusters.keys():\n",
    "        if(test_ids[i] in list_ids):\n",
    "            X_test[i,reverse_clusters[list_ids]+3+n_clusters2] = 1\n",
    "            break"
   ]
  },
  {
   "cell_type": "code",
   "execution_count": 25,
   "metadata": {},
   "outputs": [
    {
     "name": "stdout",
     "output_type": "stream",
     "text": [
      "Train matrix dimensionality:  (12272, 1315)\n",
      "Valid matrix dimensionality:  (3069, 1315)\n",
      "Test matrix dimensionality:  (3836, 1315)\n"
     ]
    }
   ],
   "source": [
    "print(\"Train matrix dimensionality: \", X_train.shape)\n",
    "print(\"Valid matrix dimensionality: \", X_valid.shape)\n",
    "print(\"Test matrix dimensionality: \", X_test.shape)"
   ]
  },
  {
   "cell_type": "markdown",
   "metadata": {},
   "source": [
    "### **Logistic regression classifier to classify the articles of the validation set **\n"
   ]
  },
  {
   "cell_type": "code",
   "execution_count": 26,
   "metadata": {},
   "outputs": [
    {
     "name": "stdout",
     "output_type": "stream",
     "text": [
      "2.2732457279\n"
     ]
    }
   ],
   "source": [
    "# Use logistic regression to classify the articles of the test set\n",
    "clf = LogisticRegression()\n",
    "clf.fit(X_train, y_train)\n",
    "y_pred = clf.predict_proba(X_valid)\n",
    "loss = log_loss(y_val,y_pred)\n",
    "print(loss)"
   ]
  },
  {
   "cell_type": "markdown",
   "metadata": {},
   "source": [
    " | **Community Detection**| **Community Louvain**  | **Both**  |\n",
    " | :-------------:| :-----: :---------: |\n",
    " |  2.30051261713 |  2.32631069591 | **2.2732457279 **|"
   ]
  },
  {
   "cell_type": "code",
   "execution_count": 27,
   "metadata": {},
   "outputs": [],
   "source": [
    "y_pred = clf.predict_proba(X_test)\n",
    "# Write predictions to a file\n",
    "with open('graph_community_detection_louvain.csv', 'w') as csvfile:\n",
    "    writer = csv.writer(csvfile, delimiter=',')\n",
    "    lst = clf.classes_.tolist()\n",
    "    lst.insert(0, \"Article\")\n",
    "    writer.writerow(lst)\n",
    "    for i,test_id in enumerate(test_ids):\n",
    "        lst = y_pred[i,:].tolist()\n",
    "        lst.insert(0, test_id)\n",
    "        writer.writerow(lst)"
   ]
  },
  {
   "cell_type": "markdown",
   "metadata": {},
   "source": [
    "### <span style=\"color:navy\"> Kaggle evaluation : 2.20234<span>"
   ]
  },
  {
   "cell_type": "markdown",
   "metadata": {},
   "source": [
    "## <span style=\"color:navy\"> Alternative 4 : Classifying articles using Community Detection/Louvain/Status<span>"
   ]
  },
  {
   "cell_type": "code",
   "execution_count": 28,
   "metadata": {},
   "outputs": [],
   "source": [
    "import community_status"
   ]
  },
  {
   "cell_type": "markdown",
   "metadata": {},
   "source": [
    "### **Instantiating and initializing community Status **\n"
   ]
  },
  {
   "cell_type": "code",
   "execution_count": 30,
   "metadata": {},
   "outputs": [],
   "source": [
    "status = community_status.Status()"
   ]
  },
  {
   "cell_type": "code",
   "execution_count": 38,
   "metadata": {},
   "outputs": [],
   "source": [
    "status.init(G,1)"
   ]
  },
  {
   "cell_type": "markdown",
   "metadata": {},
   "source": [
    "### **Create the training, validation and test matrices. Each row corresponds to an article.**\n",
    "\n",
    "Use the following 6 features for each article:\n",
    " - out-degree of node\n",
    " - in-degree of node\n",
    " - average degree of neighborhood of node\n",
    " - community status degree\n",
    " - a vector that serves as an indicator of the **Community-Detection** cluster each node is assigned to\n",
    " - a vector that serves as an indicator of the **Community-Louvain** cluster each node is assigned to"
   ]
  },
  {
   "cell_type": "code",
   "execution_count": 64,
   "metadata": {},
   "outputs": [],
   "source": [
    "train_avg_neig_deg = nx.average_neighbor_degree(G, nodes=train_ids)\n",
    "X_train = np.zeros((n_train, 4+n_clusters1+n_clusters2))\n",
    "for i in range(n_train):\n",
    "    X_train[i,0] = G.out_degree(train_ids[i])\n",
    "    X_train[i,1] = G.in_degree(train_ids[i])\n",
    "    X_train[i,2] = train_avg_neig_deg[train_ids[i]]\n",
    "    X_train[i,3] = status.gdegrees[train_ids[i]]\n",
    "    for list_ids in reverse_clusters.keys():\n",
    "        if(train_ids[i] in list_ids):\n",
    "            X_train[i,reverse_clusters[list_ids]+3+n_clusters2] = 1\n",
    "            break\n",
    "            \n",
    "alid_avg_neig_deg = nx.average_neighbor_degree(G, nodes=valid_ids)\n",
    "X_valid = np.zeros((n_valid, 4+n_clusters1+n_clusters2))\n",
    "for i in range(n_valid):\n",
    "    X_valid[i,0] = G.out_degree(valid_ids[i])\n",
    "    X_valid[i,1] = G.in_degree(valid_ids[i])\n",
    "    X_valid[i,2] = valid_avg_neig_deg[valid_ids[i]]\n",
    "    X_valid[i,3] = status.gdegrees[valid_ids[i]]\n",
    "    for list_ids in reverse_clusters.keys():\n",
    "        if(valid_ids[i] in list_ids):\n",
    "            X_valid[i,reverse_clusters[list_ids]+3+n_clusters2] = 1\n",
    "            break\n",
    "            \n",
    "test_avg_neig_deg = nx.average_neighbor_degree(G, nodes=test_ids)\n",
    "X_test = np.zeros((n_test, 4+n_clusters1+n_clusters2))\n",
    "for i in range(n_test):\n",
    "    X_test[i,0] = G.out_degree(test_ids[i])\n",
    "    X_test[i,1] = G.in_degree(test_ids[i])\n",
    "    X_test[i,2] = test_avg_neig_deg[test_ids[i]]\n",
    "    X_test[i,3] = status.gdegrees[test_ids[i]]\n",
    "    for list_ids in reverse_clusters.keys():\n",
    "        if(test_ids[i] in list_ids):\n",
    "            X_test[i,reverse_clusters[list_ids]+3+n_clusters2] = 1\n",
    "            break"
   ]
  },
  {
   "cell_type": "code",
   "execution_count": 65,
   "metadata": {},
   "outputs": [
    {
     "name": "stdout",
     "output_type": "stream",
     "text": [
      "Train matrix dimensionality:  (12272, 1316)\n",
      "Valid matrix dimensionality:  (3069, 1316)\n",
      "Test matrix dimensionality:  (3836, 1316)\n"
     ]
    }
   ],
   "source": [
    "print(\"Train matrix dimensionality: \", X_train.shape)\n",
    "print(\"Valid matrix dimensionality: \", X_valid.shape)\n",
    "print(\"Test matrix dimensionality: \", X_test.shape)"
   ]
  },
  {
   "cell_type": "code",
   "execution_count": 66,
   "metadata": {},
   "outputs": [
    {
     "name": "stdout",
     "output_type": "stream",
     "text": [
      "2.30057382345\n"
     ]
    }
   ],
   "source": [
    "# Use logistic regression to classify the articles of the test set\n",
    "clf = LogisticRegression()\n",
    "clf.fit(X_train, y_train)\n",
    "y_pred = clf.predict_proba(X_valid)\n",
    "loss = log_loss(y_val,y_pred)\n",
    "print(loss)"
   ]
  },
  {
   "cell_type": "markdown",
   "metadata": {},
   "source": [
    " ### Final Results\n",
    " | **Community Detection**| **Community Louvain**  | **Both**  |   ** Plus Community Status**\n",
    " | :-------------:| :-----: :---------: |\n",
    " |  2.30051261713 |  2.32631069591 | **2.2732457279 **|  2.30057382345 |"
   ]
  }
 ],
 "metadata": {
  "kernelspec": {
   "display_name": "Python 3",
   "language": "python",
   "name": "python3"
  },
  "language_info": {
   "codemirror_mode": {
    "name": "ipython",
    "version": 3
   },
   "file_extension": ".py",
   "mimetype": "text/x-python",
   "name": "python",
   "nbconvert_exporter": "python",
   "pygments_lexer": "ipython3",
   "version": "3.6.3"
  }
 },
 "nbformat": 4,
 "nbformat_minor": 2
}
